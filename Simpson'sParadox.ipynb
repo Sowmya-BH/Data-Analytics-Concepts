{
 "cells": [
  {
   "cell_type": "markdown",
   "id": "5d07c641",
   "metadata": {},
   "source": [
    "# Simpson's Paradox :\n",
    "\n",
    "Problem : In 1973, the University of California-Berkeley (UC-Berkeley) was sued for sex discrimination. Its admission data showed that men applying to graduate school at UC-Berkley were more likely to be admitted than women. Is this true? Lets explore the problem using released data about their graduate class!!"
   ]
  },
  {
   "cell_type": "code",
   "execution_count": 1,
   "id": "98130d8b",
   "metadata": {},
   "outputs": [],
   "source": [
    "# import the necessary libraries\n",
    "import pandas as pd\n",
    "import numpy as np \n",
    "\n",
    "import matplotlib.pyplot as plt\n",
    "import seaborn as sns"
   ]
  },
  {
   "cell_type": "code",
   "execution_count": 3,
   "id": "23b0693b",
   "metadata": {},
   "outputs": [
    {
     "data": {
      "text/html": [
       "<div>\n",
       "<style scoped>\n",
       "    .dataframe tbody tr th:only-of-type {\n",
       "        vertical-align: middle;\n",
       "    }\n",
       "\n",
       "    .dataframe tbody tr th {\n",
       "        vertical-align: top;\n",
       "    }\n",
       "\n",
       "    .dataframe thead th {\n",
       "        text-align: right;\n",
       "    }\n",
       "</style>\n",
       "<table border=\"1\" class=\"dataframe\">\n",
       "  <thead>\n",
       "    <tr style=\"text-align: right;\">\n",
       "      <th></th>\n",
       "      <th>Year</th>\n",
       "      <th>Major</th>\n",
       "      <th>Gender</th>\n",
       "      <th>Admission</th>\n",
       "    </tr>\n",
       "  </thead>\n",
       "  <tbody>\n",
       "    <tr>\n",
       "      <th>0</th>\n",
       "      <td>1973</td>\n",
       "      <td>C</td>\n",
       "      <td>F</td>\n",
       "      <td>Rejected</td>\n",
       "    </tr>\n",
       "    <tr>\n",
       "      <th>1</th>\n",
       "      <td>1973</td>\n",
       "      <td>B</td>\n",
       "      <td>M</td>\n",
       "      <td>Accepted</td>\n",
       "    </tr>\n",
       "    <tr>\n",
       "      <th>2</th>\n",
       "      <td>1973</td>\n",
       "      <td>Other</td>\n",
       "      <td>F</td>\n",
       "      <td>Accepted</td>\n",
       "    </tr>\n",
       "    <tr>\n",
       "      <th>3</th>\n",
       "      <td>1973</td>\n",
       "      <td>Other</td>\n",
       "      <td>M</td>\n",
       "      <td>Accepted</td>\n",
       "    </tr>\n",
       "    <tr>\n",
       "      <th>4</th>\n",
       "      <td>1973</td>\n",
       "      <td>Other</td>\n",
       "      <td>M</td>\n",
       "      <td>Rejected</td>\n",
       "    </tr>\n",
       "    <tr>\n",
       "      <th>...</th>\n",
       "      <td>...</td>\n",
       "      <td>...</td>\n",
       "      <td>...</td>\n",
       "      <td>...</td>\n",
       "    </tr>\n",
       "    <tr>\n",
       "      <th>12758</th>\n",
       "      <td>1973</td>\n",
       "      <td>Other</td>\n",
       "      <td>M</td>\n",
       "      <td>Accepted</td>\n",
       "    </tr>\n",
       "    <tr>\n",
       "      <th>12759</th>\n",
       "      <td>1973</td>\n",
       "      <td>D</td>\n",
       "      <td>M</td>\n",
       "      <td>Accepted</td>\n",
       "    </tr>\n",
       "    <tr>\n",
       "      <th>12760</th>\n",
       "      <td>1973</td>\n",
       "      <td>Other</td>\n",
       "      <td>F</td>\n",
       "      <td>Rejected</td>\n",
       "    </tr>\n",
       "    <tr>\n",
       "      <th>12761</th>\n",
       "      <td>1973</td>\n",
       "      <td>Other</td>\n",
       "      <td>M</td>\n",
       "      <td>Rejected</td>\n",
       "    </tr>\n",
       "    <tr>\n",
       "      <th>12762</th>\n",
       "      <td>1973</td>\n",
       "      <td>Other</td>\n",
       "      <td>M</td>\n",
       "      <td>Accepted</td>\n",
       "    </tr>\n",
       "  </tbody>\n",
       "</table>\n",
       "<p>12763 rows × 4 columns</p>\n",
       "</div>"
      ],
      "text/plain": [
       "       Year  Major Gender Admission\n",
       "0      1973      C      F  Rejected\n",
       "1      1973      B      M  Accepted\n",
       "2      1973  Other      F  Accepted\n",
       "3      1973  Other      M  Accepted\n",
       "4      1973  Other      M  Rejected\n",
       "...     ...    ...    ...       ...\n",
       "12758  1973  Other      M  Accepted\n",
       "12759  1973      D      M  Accepted\n",
       "12760  1973  Other      F  Rejected\n",
       "12761  1973  Other      M  Rejected\n",
       "12762  1973  Other      M  Accepted\n",
       "\n",
       "[12763 rows x 4 columns]"
      ]
     },
     "execution_count": 3,
     "metadata": {},
     "output_type": "execute_result"
    }
   ],
   "source": [
    "df = pd.read_csv(\"berkeley.csv\")\n",
    "df"
   ]
  },
  {
   "cell_type": "markdown",
   "id": "edbc688f",
   "metadata": {},
   "source": [
    "**The data showed the major the applicant applied to, their self-reported gender (Male or Female), and whether or not they were accepted or rejected**"
   ]
  },
  {
   "cell_type": "code",
   "execution_count": 4,
   "id": "0a40b832",
   "metadata": {},
   "outputs": [
    {
     "data": {
      "text/plain": [
       "Year         0\n",
       "Major        0\n",
       "Gender       0\n",
       "Admission    0\n",
       "dtype: int64"
      ]
     },
     "execution_count": 4,
     "metadata": {},
     "output_type": "execute_result"
    }
   ],
   "source": [
    "#Check for null values\n",
    "df.isna().sum()"
   ]
  },
  {
   "cell_type": "code",
   "execution_count": 6,
   "id": "ead267aa",
   "metadata": {},
   "outputs": [
    {
     "data": {
      "text/html": [
       "<div>\n",
       "<style scoped>\n",
       "    .dataframe tbody tr th:only-of-type {\n",
       "        vertical-align: middle;\n",
       "    }\n",
       "\n",
       "    .dataframe tbody tr th {\n",
       "        vertical-align: top;\n",
       "    }\n",
       "\n",
       "    .dataframe thead th {\n",
       "        text-align: right;\n",
       "    }\n",
       "</style>\n",
       "<table border=\"1\" class=\"dataframe\">\n",
       "  <thead>\n",
       "    <tr style=\"text-align: right;\">\n",
       "      <th></th>\n",
       "      <th>Year</th>\n",
       "    </tr>\n",
       "  </thead>\n",
       "  <tbody>\n",
       "    <tr>\n",
       "      <th>count</th>\n",
       "      <td>12763.0</td>\n",
       "    </tr>\n",
       "    <tr>\n",
       "      <th>mean</th>\n",
       "      <td>1973.0</td>\n",
       "    </tr>\n",
       "    <tr>\n",
       "      <th>std</th>\n",
       "      <td>0.0</td>\n",
       "    </tr>\n",
       "    <tr>\n",
       "      <th>min</th>\n",
       "      <td>1973.0</td>\n",
       "    </tr>\n",
       "    <tr>\n",
       "      <th>25%</th>\n",
       "      <td>1973.0</td>\n",
       "    </tr>\n",
       "    <tr>\n",
       "      <th>50%</th>\n",
       "      <td>1973.0</td>\n",
       "    </tr>\n",
       "    <tr>\n",
       "      <th>75%</th>\n",
       "      <td>1973.0</td>\n",
       "    </tr>\n",
       "    <tr>\n",
       "      <th>max</th>\n",
       "      <td>1973.0</td>\n",
       "    </tr>\n",
       "  </tbody>\n",
       "</table>\n",
       "</div>"
      ],
      "text/plain": [
       "          Year\n",
       "count  12763.0\n",
       "mean    1973.0\n",
       "std        0.0\n",
       "min     1973.0\n",
       "25%     1973.0\n",
       "50%     1973.0\n",
       "75%     1973.0\n",
       "max     1973.0"
      ]
     },
     "execution_count": 6,
     "metadata": {},
     "output_type": "execute_result"
    }
   ],
   "source": [
    "#descriptive statistics for the categorical columns in the DataFrame df\n",
    "df.describe()"
   ]
  },
  {
   "cell_type": "markdown",
   "id": "636017f4",
   "metadata": {},
   "source": [
    "*The data is 1973 admissions data and there are 12763 rows of data.*"
   ]
  },
  {
   "cell_type": "code",
   "execution_count": 7,
   "id": "c1c6340f",
   "metadata": {},
   "outputs": [
    {
     "data": {
      "text/html": [
       "<div>\n",
       "<style scoped>\n",
       "    .dataframe tbody tr th:only-of-type {\n",
       "        vertical-align: middle;\n",
       "    }\n",
       "\n",
       "    .dataframe tbody tr th {\n",
       "        vertical-align: top;\n",
       "    }\n",
       "\n",
       "    .dataframe thead th {\n",
       "        text-align: right;\n",
       "    }\n",
       "</style>\n",
       "<table border=\"1\" class=\"dataframe\">\n",
       "  <thead>\n",
       "    <tr style=\"text-align: right;\">\n",
       "      <th></th>\n",
       "      <th>Major</th>\n",
       "      <th>Gender</th>\n",
       "      <th>Admission</th>\n",
       "    </tr>\n",
       "  </thead>\n",
       "  <tbody>\n",
       "    <tr>\n",
       "      <th>count</th>\n",
       "      <td>12763</td>\n",
       "      <td>12763</td>\n",
       "      <td>12763</td>\n",
       "    </tr>\n",
       "    <tr>\n",
       "      <th>unique</th>\n",
       "      <td>7</td>\n",
       "      <td>2</td>\n",
       "      <td>2</td>\n",
       "    </tr>\n",
       "    <tr>\n",
       "      <th>top</th>\n",
       "      <td>Other</td>\n",
       "      <td>M</td>\n",
       "      <td>Rejected</td>\n",
       "    </tr>\n",
       "    <tr>\n",
       "      <th>freq</th>\n",
       "      <td>7924</td>\n",
       "      <td>8442</td>\n",
       "      <td>7531</td>\n",
       "    </tr>\n",
       "  </tbody>\n",
       "</table>\n",
       "</div>"
      ],
      "text/plain": [
       "        Major Gender Admission\n",
       "count   12763  12763     12763\n",
       "unique      7      2         2\n",
       "top     Other      M  Rejected\n",
       "freq     7924   8442      7531"
      ]
     },
     "execution_count": 7,
     "metadata": {},
     "output_type": "execute_result"
    }
   ],
   "source": [
    "df.describe(include=['O'])"
   ]
  },
  {
   "cell_type": "code",
   "execution_count": 8,
   "id": "7a32fc39",
   "metadata": {},
   "outputs": [
    {
     "data": {
      "text/plain": [
       "M    8442\n",
       "F    4321\n",
       "Name: Gender, dtype: int64"
      ]
     },
     "execution_count": 8,
     "metadata": {},
     "output_type": "execute_result"
    }
   ],
   "source": [
    "# descriptive statistics for the categorical columns in the DataFrame df\n",
    "df['Gender'].value_counts()"
   ]
  },
  {
   "cell_type": "code",
   "execution_count": 26,
   "id": "73ca659b",
   "metadata": {},
   "outputs": [
    {
     "data": {
      "text/html": [
       "<div>\n",
       "<style scoped>\n",
       "    .dataframe tbody tr th:only-of-type {\n",
       "        vertical-align: middle;\n",
       "    }\n",
       "\n",
       "    .dataframe tbody tr th {\n",
       "        vertical-align: top;\n",
       "    }\n",
       "\n",
       "    .dataframe thead th {\n",
       "        text-align: right;\n",
       "    }\n",
       "</style>\n",
       "<table border=\"1\" class=\"dataframe\">\n",
       "  <thead>\n",
       "    <tr style=\"text-align: right;\">\n",
       "      <th>Admission</th>\n",
       "      <th>Accepted</th>\n",
       "      <th>Rejected</th>\n",
       "    </tr>\n",
       "    <tr>\n",
       "      <th>Gender</th>\n",
       "      <th></th>\n",
       "      <th></th>\n",
       "    </tr>\n",
       "  </thead>\n",
       "  <tbody>\n",
       "    <tr>\n",
       "      <th>F</th>\n",
       "      <td>1494</td>\n",
       "      <td>2827</td>\n",
       "    </tr>\n",
       "    <tr>\n",
       "      <th>M</th>\n",
       "      <td>3738</td>\n",
       "      <td>4704</td>\n",
       "    </tr>\n",
       "  </tbody>\n",
       "</table>\n",
       "</div>"
      ],
      "text/plain": [
       "Admission  Accepted  Rejected\n",
       "Gender                       \n",
       "F              1494      2827\n",
       "M              3738      4704"
      ]
     },
     "execution_count": 26,
     "metadata": {},
     "output_type": "execute_result"
    }
   ],
   "source": [
    "#group the rows based on the unique combinations of 'Gender' and 'Admission' and display the count\n",
    "overall_acceptance_ratio = df.groupby(['Gender','Admission']).size().unstack()\n",
    "overall_acceptance_ratio"
   ]
  },
  {
   "cell_type": "code",
   "execution_count": 28,
   "id": "07e52b11",
   "metadata": {},
   "outputs": [
    {
     "data": {
      "text/html": [
       "<div>\n",
       "<style scoped>\n",
       "    .dataframe tbody tr th:only-of-type {\n",
       "        vertical-align: middle;\n",
       "    }\n",
       "\n",
       "    .dataframe tbody tr th {\n",
       "        vertical-align: top;\n",
       "    }\n",
       "\n",
       "    .dataframe thead th {\n",
       "        text-align: right;\n",
       "    }\n",
       "</style>\n",
       "<table border=\"1\" class=\"dataframe\">\n",
       "  <thead>\n",
       "    <tr style=\"text-align: right;\">\n",
       "      <th>Admission</th>\n",
       "      <th>Accepted</th>\n",
       "      <th>Rejected</th>\n",
       "      <th>Accepted Ratio</th>\n",
       "    </tr>\n",
       "    <tr>\n",
       "      <th>Gender</th>\n",
       "      <th></th>\n",
       "      <th></th>\n",
       "      <th></th>\n",
       "    </tr>\n",
       "  </thead>\n",
       "  <tbody>\n",
       "    <tr>\n",
       "      <th>F</th>\n",
       "      <td>1494</td>\n",
       "      <td>2827</td>\n",
       "      <td>0.345753</td>\n",
       "    </tr>\n",
       "    <tr>\n",
       "      <th>M</th>\n",
       "      <td>3738</td>\n",
       "      <td>4704</td>\n",
       "      <td>0.442786</td>\n",
       "    </tr>\n",
       "  </tbody>\n",
       "</table>\n",
       "</div>"
      ],
      "text/plain": [
       "Admission  Accepted  Rejected  Accepted Ratio\n",
       "Gender                                       \n",
       "F              1494      2827        0.345753\n",
       "M              3738      4704        0.442786"
      ]
     },
     "execution_count": 28,
     "metadata": {},
     "output_type": "execute_result"
    }
   ],
   "source": [
    "# Calculate acceptance rate segregated by gender\n",
    "overall_acceptance_ratio['Accepted Ratio'] = overall_acceptance_ratio['Accepted']/(overall_acceptance_ratio['Accepted']+overall_acceptance_ratio['Rejected'])\n",
    "overall_acceptance_ratio"
   ]
  },
  {
   "cell_type": "code",
   "execution_count": 29,
   "id": "2c13ffe1",
   "metadata": {},
   "outputs": [
    {
     "data": {
      "image/png": "[encoded data removed]",
      "text/plain": [
       "<Figure size 432x288 with 1 Axes>"
      ]
     },
     "metadata": {
      "needs_background": "light"
     },
     "output_type": "display_data"
    }
   ],
   "source": [
    "# Create a bar plot\n",
    "plt.bar(overall_acceptance_ratio.index, overall_acceptance_ratio['Accepted Ratio'])\n",
    "\n",
    "# Add labels and title\n",
    "plt.xlabel('Admission')\n",
    "plt.ylabel('Accepted Ratio')\n",
    "plt.title('Overall Acceptance Ratio')\n",
    "\n",
    "# Show the plot\n",
    "plt.show()"
   ]
  },
  {
   "cell_type": "markdown",
   "id": "3f8fe4b3",
   "metadata": {},
   "source": [
    "So, Indeed the claim is true and is a case for sex discrimination!!. The graduate schools had accepted 44% of male applicants but only 35% of female applicants. Hmm..But wait a minute, you never want to blindly compare everyone in the treatment group to everyone in the control group because sometimes Simpson's Paradox can occur. \n",
    "Lets first make sure that this is not a potential instance of Simpson's paradox. "
   ]
  },
  {
   "cell_type": "markdown",
   "id": "6cd82009",
   "metadata": {},
   "source": [
    "**Wait a minute! What is Simpson's Paradox?**\n",
    "Simpson's paradox is a statistical phenomenon where a trend or relationship appears in different groups of data, but disappears or reverses when the groups are combined. It can lead to misleading or contradictory conclusions if not properly understood and analyzed."
   ]
  },
  {
   "cell_type": "markdown",
   "id": "37164eb2",
   "metadata": {},
   "source": [
    "**So Was Berkeley Biased?**\n",
    "Befor jumping into conclusions lets explore the other varibles of the dataset 'Major'. Generally, the stratifying the data reveals patterns that might help us answer and better respond to the question."
   ]
  },
  {
   "cell_type": "code",
   "execution_count": 115,
   "id": "820c24ce",
   "metadata": {},
   "outputs": [],
   "source": [
    "#group the rows based on the unique combinations of 'Gender', Major and 'Admission' and display the count\n",
    "acceptance_ratio_by_major = df.groupby(['Gender','Admission','Major']).size().unstack()"
   ]
  },
  {
   "cell_type": "code",
   "execution_count": 133,
   "id": "09c0f5b6",
   "metadata": {},
   "outputs": [
    {
     "data": {
      "text/html": [
       "<div>\n",
       "<style scoped>\n",
       "    .dataframe tbody tr th:only-of-type {\n",
       "        vertical-align: middle;\n",
       "    }\n",
       "\n",
       "    .dataframe tbody tr th {\n",
       "        vertical-align: top;\n",
       "    }\n",
       "\n",
       "    .dataframe thead tr th {\n",
       "        text-align: left;\n",
       "    }\n",
       "\n",
       "    .dataframe thead tr:last-of-type th {\n",
       "        text-align: right;\n",
       "    }\n",
       "</style>\n",
       "<table border=\"1\" class=\"dataframe\">\n",
       "  <thead>\n",
       "    <tr>\n",
       "      <th>Gender</th>\n",
       "      <th colspan=\"2\" halign=\"left\">F</th>\n",
       "      <th colspan=\"2\" halign=\"left\">M</th>\n",
       "    </tr>\n",
       "    <tr>\n",
       "      <th>Admission</th>\n",
       "      <th>Accepted</th>\n",
       "      <th>Rejected</th>\n",
       "      <th>Accepted</th>\n",
       "      <th>Rejected</th>\n",
       "    </tr>\n",
       "    <tr>\n",
       "      <th>Major</th>\n",
       "      <th></th>\n",
       "      <th></th>\n",
       "      <th></th>\n",
       "      <th></th>\n",
       "    </tr>\n",
       "  </thead>\n",
       "  <tbody>\n",
       "    <tr>\n",
       "      <th>A</th>\n",
       "      <td>89</td>\n",
       "      <td>19</td>\n",
       "      <td>825</td>\n",
       "      <td>313</td>\n",
       "    </tr>\n",
       "    <tr>\n",
       "      <th>B</th>\n",
       "      <td>17</td>\n",
       "      <td>8</td>\n",
       "      <td>353</td>\n",
       "      <td>207</td>\n",
       "    </tr>\n",
       "    <tr>\n",
       "      <th>C</th>\n",
       "      <td>201</td>\n",
       "      <td>392</td>\n",
       "      <td>120</td>\n",
       "      <td>205</td>\n",
       "    </tr>\n",
       "    <tr>\n",
       "      <th>D</th>\n",
       "      <td>131</td>\n",
       "      <td>244</td>\n",
       "      <td>138</td>\n",
       "      <td>279</td>\n",
       "    </tr>\n",
       "    <tr>\n",
       "      <th>E</th>\n",
       "      <td>94</td>\n",
       "      <td>299</td>\n",
       "      <td>53</td>\n",
       "      <td>138</td>\n",
       "    </tr>\n",
       "    <tr>\n",
       "      <th>F</th>\n",
       "      <td>25</td>\n",
       "      <td>316</td>\n",
       "      <td>22</td>\n",
       "      <td>351</td>\n",
       "    </tr>\n",
       "    <tr>\n",
       "      <th>Other</th>\n",
       "      <td>937</td>\n",
       "      <td>1549</td>\n",
       "      <td>2227</td>\n",
       "      <td>3211</td>\n",
       "    </tr>\n",
       "  </tbody>\n",
       "</table>\n",
       "</div>"
      ],
      "text/plain": [
       "Gender           F                 M         \n",
       "Admission Accepted Rejected Accepted Rejected\n",
       "Major                                        \n",
       "A               89       19      825      313\n",
       "B               17        8      353      207\n",
       "C              201      392      120      205\n",
       "D              131      244      138      279\n",
       "E               94      299       53      138\n",
       "F               25      316       22      351\n",
       "Other          937     1549     2227     3211"
      ]
     },
     "execution_count": 133,
     "metadata": {},
     "output_type": "execute_result"
    }
   ],
   "source": [
    "# Transpose the DataFrame to have Gender, Admission, and Major as columns\n",
    "transposed_df = acceptance_ratio_by_major.T\n",
    "transposed_df"
   ]
  },
  {
   "cell_type": "code",
   "execution_count": 134,
   "id": "238ce254",
   "metadata": {},
   "outputs": [
    {
     "data": {
      "text/plain": [
       "MultiIndex([('F', 'Accepted'),\n",
       "            ('F', 'Rejected'),\n",
       "            ('M', 'Accepted'),\n",
       "            ('M', 'Rejected')],\n",
       "           names=['Gender', 'Admission'])"
      ]
     },
     "execution_count": 134,
     "metadata": {},
     "output_type": "execute_result"
    }
   ],
   "source": [
    "transposed_df.columns"
   ]
  },
  {
   "cell_type": "code",
   "execution_count": 135,
   "id": "113e2696",
   "metadata": {},
   "outputs": [
    {
     "data": {
      "text/html": [
       "<div>\n",
       "<style scoped>\n",
       "    .dataframe tbody tr th:only-of-type {\n",
       "        vertical-align: middle;\n",
       "    }\n",
       "\n",
       "    .dataframe tbody tr th {\n",
       "        vertical-align: top;\n",
       "    }\n",
       "\n",
       "    .dataframe thead th {\n",
       "        text-align: right;\n",
       "    }\n",
       "</style>\n",
       "<table border=\"1\" class=\"dataframe\">\n",
       "  <thead>\n",
       "    <tr style=\"text-align: right;\">\n",
       "      <th></th>\n",
       "      <th>FAccepted</th>\n",
       "      <th>FRejected</th>\n",
       "      <th>MAccepted</th>\n",
       "      <th>MRejected</th>\n",
       "    </tr>\n",
       "    <tr>\n",
       "      <th>Major</th>\n",
       "      <th></th>\n",
       "      <th></th>\n",
       "      <th></th>\n",
       "      <th></th>\n",
       "    </tr>\n",
       "  </thead>\n",
       "  <tbody>\n",
       "    <tr>\n",
       "      <th>A</th>\n",
       "      <td>89</td>\n",
       "      <td>19</td>\n",
       "      <td>825</td>\n",
       "      <td>313</td>\n",
       "    </tr>\n",
       "    <tr>\n",
       "      <th>B</th>\n",
       "      <td>17</td>\n",
       "      <td>8</td>\n",
       "      <td>353</td>\n",
       "      <td>207</td>\n",
       "    </tr>\n",
       "    <tr>\n",
       "      <th>C</th>\n",
       "      <td>201</td>\n",
       "      <td>392</td>\n",
       "      <td>120</td>\n",
       "      <td>205</td>\n",
       "    </tr>\n",
       "    <tr>\n",
       "      <th>D</th>\n",
       "      <td>131</td>\n",
       "      <td>244</td>\n",
       "      <td>138</td>\n",
       "      <td>279</td>\n",
       "    </tr>\n",
       "    <tr>\n",
       "      <th>E</th>\n",
       "      <td>94</td>\n",
       "      <td>299</td>\n",
       "      <td>53</td>\n",
       "      <td>138</td>\n",
       "    </tr>\n",
       "    <tr>\n",
       "      <th>F</th>\n",
       "      <td>25</td>\n",
       "      <td>316</td>\n",
       "      <td>22</td>\n",
       "      <td>351</td>\n",
       "    </tr>\n",
       "    <tr>\n",
       "      <th>Other</th>\n",
       "      <td>937</td>\n",
       "      <td>1549</td>\n",
       "      <td>2227</td>\n",
       "      <td>3211</td>\n",
       "    </tr>\n",
       "  </tbody>\n",
       "</table>\n",
       "</div>"
      ],
      "text/plain": [
       "       FAccepted  FRejected  MAccepted  MRejected\n",
       "Major                                            \n",
       "A             89         19        825        313\n",
       "B             17          8        353        207\n",
       "C            201        392        120        205\n",
       "D            131        244        138        279\n",
       "E             94        299         53        138\n",
       "F             25        316         22        351\n",
       "Other        937       1549       2227       3211"
      ]
     },
     "execution_count": 135,
     "metadata": {},
     "output_type": "execute_result"
    }
   ],
   "source": [
    "transposed_df.columns = [''.join(col) for col in transposed_df.columns.values]\n",
    "transposed_df"
   ]
  },
  {
   "cell_type": "code",
   "execution_count": 136,
   "id": "0ee8d635",
   "metadata": {},
   "outputs": [],
   "source": [
    "# Calculate the acceptance percentages for female and male applicants\n",
    "def calculate_acceptance_percentage(accepted, rejected):\n",
    "    return (accepted / (accepted + rejected)) * 100\n"
   ]
  },
  {
   "cell_type": "code",
   "execution_count": 137,
   "id": "9a82f4fb",
   "metadata": {},
   "outputs": [],
   "source": [
    "# Calculate the acceptance percentage for female applicants\n",
    "transposed_df['FAcceptance_Percentage_by_Major'] = transposed_df.apply(lambda row: calculate_acceptance_percentage(row['FAccepted'], row['FRejected']), axis=1)"
   ]
  },
  {
   "cell_type": "code",
   "execution_count": 138,
   "id": "7b6ef01d",
   "metadata": {},
   "outputs": [],
   "source": [
    "# Calculate the acceptance percentage for male applicants\n",
    "transposed_df['MAcceptance_Percentage_by_Major'] = transposed_df.apply(lambda row: calculate_acceptance_percentage(row['MAccepted'], row['MRejected']), axis=1)"
   ]
  },
  {
   "cell_type": "code",
   "execution_count": 139,
   "id": "6a6a796a",
   "metadata": {},
   "outputs": [
    {
     "data": {
      "text/html": [
       "<div>\n",
       "<style scoped>\n",
       "    .dataframe tbody tr th:only-of-type {\n",
       "        vertical-align: middle;\n",
       "    }\n",
       "\n",
       "    .dataframe tbody tr th {\n",
       "        vertical-align: top;\n",
       "    }\n",
       "\n",
       "    .dataframe thead th {\n",
       "        text-align: right;\n",
       "    }\n",
       "</style>\n",
       "<table border=\"1\" class=\"dataframe\">\n",
       "  <thead>\n",
       "    <tr style=\"text-align: right;\">\n",
       "      <th></th>\n",
       "      <th>FAccepted</th>\n",
       "      <th>FRejected</th>\n",
       "      <th>MAccepted</th>\n",
       "      <th>MRejected</th>\n",
       "      <th>FAcceptance_Percentage_by_Major</th>\n",
       "      <th>MAcceptance_Percentage_by_Major</th>\n",
       "    </tr>\n",
       "    <tr>\n",
       "      <th>Major</th>\n",
       "      <th></th>\n",
       "      <th></th>\n",
       "      <th></th>\n",
       "      <th></th>\n",
       "      <th></th>\n",
       "      <th></th>\n",
       "    </tr>\n",
       "  </thead>\n",
       "  <tbody>\n",
       "    <tr>\n",
       "      <th>A</th>\n",
       "      <td>89</td>\n",
       "      <td>19</td>\n",
       "      <td>825</td>\n",
       "      <td>313</td>\n",
       "      <td>82.407407</td>\n",
       "      <td>72.495606</td>\n",
       "    </tr>\n",
       "    <tr>\n",
       "      <th>B</th>\n",
       "      <td>17</td>\n",
       "      <td>8</td>\n",
       "      <td>353</td>\n",
       "      <td>207</td>\n",
       "      <td>68.000000</td>\n",
       "      <td>63.035714</td>\n",
       "    </tr>\n",
       "    <tr>\n",
       "      <th>C</th>\n",
       "      <td>201</td>\n",
       "      <td>392</td>\n",
       "      <td>120</td>\n",
       "      <td>205</td>\n",
       "      <td>33.895447</td>\n",
       "      <td>36.923077</td>\n",
       "    </tr>\n",
       "    <tr>\n",
       "      <th>D</th>\n",
       "      <td>131</td>\n",
       "      <td>244</td>\n",
       "      <td>138</td>\n",
       "      <td>279</td>\n",
       "      <td>34.933333</td>\n",
       "      <td>33.093525</td>\n",
       "    </tr>\n",
       "    <tr>\n",
       "      <th>E</th>\n",
       "      <td>94</td>\n",
       "      <td>299</td>\n",
       "      <td>53</td>\n",
       "      <td>138</td>\n",
       "      <td>23.918575</td>\n",
       "      <td>27.748691</td>\n",
       "    </tr>\n",
       "    <tr>\n",
       "      <th>F</th>\n",
       "      <td>25</td>\n",
       "      <td>316</td>\n",
       "      <td>22</td>\n",
       "      <td>351</td>\n",
       "      <td>7.331378</td>\n",
       "      <td>5.898123</td>\n",
       "    </tr>\n",
       "    <tr>\n",
       "      <th>Other</th>\n",
       "      <td>937</td>\n",
       "      <td>1549</td>\n",
       "      <td>2227</td>\n",
       "      <td>3211</td>\n",
       "      <td>37.691070</td>\n",
       "      <td>40.952556</td>\n",
       "    </tr>\n",
       "  </tbody>\n",
       "</table>\n",
       "</div>"
      ],
      "text/plain": [
       "       FAccepted  FRejected  MAccepted  MRejected  \\\n",
       "Major                                               \n",
       "A             89         19        825        313   \n",
       "B             17          8        353        207   \n",
       "C            201        392        120        205   \n",
       "D            131        244        138        279   \n",
       "E             94        299         53        138   \n",
       "F             25        316         22        351   \n",
       "Other        937       1549       2227       3211   \n",
       "\n",
       "       FAcceptance_Percentage_by_Major  MAcceptance_Percentage_by_Major  \n",
       "Major                                                                    \n",
       "A                            82.407407                        72.495606  \n",
       "B                            68.000000                        63.035714  \n",
       "C                            33.895447                        36.923077  \n",
       "D                            34.933333                        33.093525  \n",
       "E                            23.918575                        27.748691  \n",
       "F                             7.331378                         5.898123  \n",
       "Other                        37.691070                        40.952556  "
      ]
     },
     "execution_count": 139,
     "metadata": {},
     "output_type": "execute_result"
    }
   ],
   "source": [
    "transposed_df"
   ]
  },
  {
   "cell_type": "markdown",
   "id": "e5804bc5",
   "metadata": {},
   "source": [
    "**Now, We can see that when we stratify based on major, the “bias” goes away!!. Most individual majors favored women or had very similar acceptance rates.**"
   ]
  },
  {
   "cell_type": "markdown",
   "id": "a5510ac4",
   "metadata": {},
   "source": [
    "**Discussion: What happened?**\n",
    "\n",
    "During that semester, it was observed that more men applied to majors A and B, which were considered \"easier to get into.\" Both of these majors had an acceptance rate of over 50%. On the other hand, more women applied to majors C-F, which were known to be \"harder to get into.\" These majors had significantly lower acceptance rates, all below 50%. This data at UC-Berkeley seemed to indicate a disparity in admission rates between men and women, but upon further analysis, it was discovered that Simpson's Paradox was at play.\n",
    "\n",
    "Simpson's Paradox occurs when a confounding variable, in this case, the choice of major, heavily influences the outcome and leads to a reversal of the observed trend. By stratifying the data based on majors, a more accurate comparison was made. It allowed for a direct comparison between women who applied to major A and men who applied to major A, women who applied to major B and men who applied to major B, and so on. These comparisons provided a clearer understanding of the situation and revealed that the initial apparent bias against women was not present when considering similar majors.\n",
    "\n",
    "Through this analysis, it became evident that UC-Berkeley's admission process was not biased. Instead, Simpson's Paradox emerged due to the extreme influence of the confounding variable, major choice.\n",
    "\n",
    "Happy Reading!!\n",
    "\n",
    "Hope you find this useful!!\n",
    "\n",
    "\n",
    "\n"
   ]
  }
 ],
 "metadata": {
  "kernelspec": {
   "display_name": "Python 3 (ipykernel)",
   "language": "python",
   "name": "python3"
  },
  "language_info": {
   "codemirror_mode": {
    "name": "ipython",
    "version": 3
   },
   "file_extension": ".py",
   "mimetype": "text/x-python",
   "name": "python",
   "nbconvert_exporter": "python",
   "pygments_lexer": "ipython3",
   "version": "3.9.7"
  }
 },
 "nbformat": 4,
 "nbformat_minor": 5
}
